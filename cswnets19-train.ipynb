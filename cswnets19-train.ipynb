{
 "cells": [
  {
   "cell_type": "code",
   "execution_count": 2,
   "metadata": {},
   "outputs": [],
   "source": [
    "import torch as tr\n",
    "import numpy as np\n",
    "from CSW import *\n",
    "\n",
    "from matplotlib import pyplot as plt\n",
    "%matplotlib inline\n",
    "\n",
    "%load_ext autoreload\n",
    "%reload_ext autoreload\n",
    "%autoreload 2"
   ]
  },
  {
   "cell_type": "markdown",
   "metadata": {},
   "source": [
    "# match human data\n",
    "- to match human i need to prop one sentence at a time. otherwise the network will do well on later sentences (because after observing one transition the next are determined)\n",
    "- backprop for each sample, flush at end of story"
   ]
  },
  {
   "cell_type": "code",
   "execution_count": 33,
   "metadata": {},
   "outputs": [],
   "source": [
    "task = CSWTask(graph_pr=1.0)"
   ]
  },
  {
   "cell_type": "code",
   "execution_count": 42,
   "metadata": {},
   "outputs": [
    {
     "data": {
      "text/plain": [
       "{0: {1: 0.5, 2: 0.5},\n",
       " 1: {3: 1.0, 4: 0.0},\n",
       " 2: {3: 0.0, 4: 1.0},\n",
       " 3: {5: 1.0, 6: 0.0},\n",
       " 4: {5: 0.0, 6: 1.0},\n",
       " 5: {7: 1.0, 8: 0.0},\n",
       " 6: {7: 0.0, 8: 1.0},\n",
       " 7: {9: 1.0},\n",
       " 8: {9: 1.0}}"
      ]
     },
     "execution_count": 42,
     "metadata": {},
     "output_type": "execute_result"
    }
   ],
   "source": [
    "path = task.sample_path()\n",
    "task.graph"
   ]
  },
  {
   "cell_type": "code",
   "execution_count": 47,
   "metadata": {},
   "outputs": [
    {
     "data": {
      "text/plain": [
       "tensor([[10],\n",
       "        [ 0],\n",
       "        [ 2],\n",
       "        [ 4],\n",
       "        [ 6]])"
      ]
     },
     "execution_count": 47,
     "metadata": {},
     "output_type": "execute_result"
    }
   ],
   "source": [
    "\n",
    "X,Y = task.dataset_onestory_with_marker(path=path,\n",
    "                                        filler_id=10,\n",
    "                                        depth=1)\n",
    "X"
   ]
  },
  {
   "cell_type": "code",
   "execution_count": 48,
   "metadata": {},
   "outputs": [
    {
     "name": "stdout",
     "output_type": "stream",
     "text": [
      "x= tensor([10]) y= tensor([0])\n",
      "x= tensor([0]) y= tensor([2])\n",
      "x= tensor([2]) y= tensor([4])\n",
      "x= tensor([4]) y= tensor([6])\n",
      "x= tensor([6]) y= tensor([8])\n"
     ]
    }
   ],
   "source": [
    "for o in range(len(X)):\n",
    "  print('x=',X[o],'y=',Y[o])"
   ]
  },
  {
   "cell_type": "code",
   "execution_count": 16,
   "metadata": {},
   "outputs": [
    {
     "data": {
      "text/plain": [
       "array([0, 2, 4, 6, 8, 9])"
      ]
     },
     "execution_count": 16,
     "metadata": {},
     "output_type": "execute_result"
    }
   ],
   "source": [
    "task.sample_path()"
   ]
  },
  {
   "cell_type": "code",
   "execution_count": 3,
   "metadata": {},
   "outputs": [],
   "source": [
    "# task\n",
    "pr = 1.0\n",
    "taskL = [CSWTask(pr),CSWTask(1-pr)]\n",
    "\n",
    "eval_pathL = [\n",
    "  [10,0,1,4,5],       \n",
    "  [11,0,1,3,5],\n",
    "  ]\n",
    "\n",
    "xeval = taskL[0].format_Xeval(eval_pathL)\n",
    "xeval = tr.tensor(xeval)"
   ]
  },
  {
   "cell_type": "code",
   "execution_count": null,
   "metadata": {},
   "outputs": [],
   "source": []
  },
  {
   "cell_type": "code",
   "execution_count": 3,
   "metadata": {},
   "outputs": [
    {
     "name": "stdout",
     "output_type": "stream",
     "text": [
      "seed 0\n",
      "seed 1\n",
      "seed 2\n",
      "seed 3\n",
      "seed 4\n",
      "seed 5\n",
      "seed 6\n",
      "seed 7\n",
      "seed 8\n",
      "seed 9\n"
     ]
    }
   ],
   "source": [
    "## params\n",
    "stsize = 40\n",
    "learn_rate = 0.005\n",
    "neps = 200\n",
    "block_len = 1\n",
    "## train setup\n",
    "softmax = lambda ulog: tr.softmax(ulog,-1)\n",
    "lossop = tr.nn.CrossEntropyLoss()\n",
    "\n",
    "\n",
    "## loop over seeds\n",
    "# for seed in range(10):\n",
    "#   lossL = []\n",
    "  # init net\n",
    "  net = CSWNet(stsize,seed)\n",
    "  optiop = tr.optim.Adam(net.parameters(), lr=learn_rate)\n",
    "  model_name='ysm-blocklen%i-seed%i'%(block_len,seed)\n",
    "  # eval array\n",
    "  tdim,sm_dim=5,12\n",
    "  ysm = -np.ones([2,neps,tdim,sm_dim])\n",
    "  ## train loop\n",
    "  task_int = 0\n",
    "  for ep in range(neps):\n",
    "    if ep == 160:\n",
    "      block_len = 1\n",
    "    # select graph\n",
    "    if ep%block_len==0:\n",
    "      task_int = (task_int+1)%2\n",
    "      task = taskL[task_int]\n",
    "      filler_id = 10+task_int \n",
    "    # forward prop  \n",
    "    path = task.sample_path()\n",
    "    xtrain,ytrain = task.dataset_onestory_with_marker(path=path,filler_id=filler_id,depth=1)\n",
    "    yh = net(xtrain) # (time,smunits)\n",
    "    # eval\n",
    "    for idx,xev in enumerate(xeval):\n",
    "      ysm_t = softmax(net(xev)).detach().numpy()\n",
    "      ysm[idx,ep] = ysm_t\n",
    "    # backprop\n",
    "    loss = 0\n",
    "    for tstep in range(len(xtrain)):\n",
    "      loss = lossop(yh[tstep].unsqueeze(0),ytrain[tstep])\n",
    "      optiop.zero_grad()\n",
    "      loss.backward(retain_graph=True)\n",
    "      optiop.step()\n",
    "    lossL.append(loss)\n",
    "#     if verb and ep%(neps/5)==0:\n",
    "#       print(ep/neps,loss.detach().numpy())\n",
    "  fpath = 'eval_data/human_match/'+model_name \n",
    "#   np.save(fpath,ysm)"
   ]
  },
  {
   "cell_type": "code",
   "execution_count": 5,
   "metadata": {},
   "outputs": [],
   "source": [
    "plt.plot(lossL)"
   ]
  }
 ],
 "metadata": {
  "kernelspec": {
   "display_name": "Python 3",
   "language": "python",
   "name": "python3"
  },
  "language_info": {
   "codemirror_mode": {
    "name": "ipython",
    "version": 3
   },
   "file_extension": ".py",
   "mimetype": "text/x-python",
   "name": "python",
   "nbconvert_exporter": "python",
   "pygments_lexer": "ipython3",
   "version": "3.7.3"
  }
 },
 "nbformat": 4,
 "nbformat_minor": 2
}
