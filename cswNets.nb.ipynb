{
 "cells": [
  {
   "cell_type": "markdown",
   "metadata": {},
   "source": [
    "### notes"
   ]
  },
  {
   "cell_type": "raw",
   "metadata": {},
   "source": [
    "- pass csw object to baseGraph:\n",
    "    to automatically define vocab size\n",
    "\n",
    "- make trainer_data object?"
   ]
  },
  {
   "cell_type": "code",
   "execution_count": 1,
   "metadata": {},
   "outputs": [
    {
     "name": "stderr",
     "output_type": "stream",
     "text": [
      "/Users/abeukers/anaconda/lib/python3.6/site-packages/h5py/__init__.py:34: FutureWarning: Conversion of the second argument of issubdtype from `float` to `np.floating` is deprecated. In future, it will be treated as `np.float64 == np.dtype(float).type`.\n",
      "  from ._conv import register_converters as _register_converters\n"
     ]
    }
   ],
   "source": [
    "from BaseGraph import *\n",
    "from Cells import *\n",
    "from RNNs import *\n",
    "from cswNetEngine import *\n",
    "from analysis import *\n",
    "from Trainer import *\n",
    "\n",
    "%load_ext autoreload\n",
    "%reload_ext autoreload\n",
    "%autoreload 2\n",
    "\n",
    "import pandas as pd\n",
    "from matplotlib import pyplot as plt\n",
    "from matplotlib import colors\n",
    "%matplotlib inline"
   ]
  },
  {
   "cell_type": "markdown",
   "metadata": {},
   "source": [
    "## single block single graph"
   ]
  },
  {
   "cell_type": "markdown",
   "metadata": {},
   "source": [
    "currently pred_arr concatenates blocks. eventually i'll want to have a separate dimension for block (i) to do some between block averaging and (ii) so that i can just pass the array with predictions  (pred_arr) into functions. keep in mind this will require changing the function that makes the dataframe with predictions (pred_df)"
   ]
  },
  {
   "cell_type": "code",
   "execution_count": 2,
   "metadata": {
    "scrolled": true
   },
   "outputs": [],
   "source": [
    "net_size = 10\n",
    "cell = CustomLSTM(net_size,net_size,net_size,net_size)"
   ]
  },
  {
   "cell_type": "code",
   "execution_count": 5,
   "metadata": {
    "scrolled": true
   },
   "outputs": [],
   "source": [
    "rnn = RNN_fullstory(cell)"
   ]
  },
  {
   "cell_type": "code",
   "execution_count": 6,
   "metadata": {
    "scrolled": true
   },
   "outputs": [],
   "source": [
    "net_size = 10\n",
    "saving_name=\"lstm%i+\"%net_size\n",
    "\n",
    "cell = CustomLSTM(net_size,net_size,net_size,net_size)\n",
    "rnn = RNN_fullstory(cell)\n",
    "trainer = Trainer(rnn)\n"
   ]
  },
  {
   "cell_type": "code",
   "execution_count": 13,
   "metadata": {},
   "outputs": [],
   "source": [
    "X,Y = trainer.gen_train_data('location.latent.true')"
   ]
  },
  {
   "cell_type": "code",
   "execution_count": 15,
   "metadata": {},
   "outputs": [
    {
     "data": {
      "text/plain": [
       "(6, 2)"
      ]
     },
     "execution_count": 15,
     "metadata": {},
     "output_type": "execute_result"
    }
   ],
   "source": [
    "Y.shape"
   ]
  },
  {
   "cell_type": "code",
   "execution_count": null,
   "metadata": {},
   "outputs": [],
   "source": []
  },
  {
   "cell_type": "code",
   "execution_count": 106,
   "metadata": {
    "scrolled": true
   },
   "outputs": [
    {
     "name": "stdout",
     "output_type": "stream",
     "text": [
      "sess 0\n",
      "0 0\n",
      "0 10\n",
      "0 20\n",
      "0 30\n",
      "0 40\n",
      "0 50\n",
      "0 60\n",
      "0 70\n",
      "0 80\n",
      "0 90\n",
      "1 0\n",
      "1 10\n",
      "1 20\n",
      "1 30\n",
      "1 40\n",
      "1 50\n",
      "1 60\n",
      "1 70\n",
      "1 80\n",
      "1 90\n",
      "sess 1\n",
      "0 0\n",
      "0 10\n",
      "0 20\n",
      "0 30\n",
      "0 40\n",
      "0 50\n",
      "0 60\n",
      "0 70\n",
      "0 80\n",
      "0 90\n",
      "1 0\n",
      "1 10\n",
      "1 20\n",
      "1 30\n",
      "1 40\n",
      "1 50\n",
      "1 60\n",
      "1 70\n",
      "1 80\n",
      "1 90\n",
      "2 0\n",
      "2 10\n",
      "2 20\n",
      "2 30\n",
      "2 40\n",
      "2 50\n",
      "2 60\n",
      "2 70\n",
      "2 80\n",
      "2 90\n"
     ]
    }
   ],
   "source": [
    "blocking = [(2,100),(3,100)]\n",
    "eval_data,pred_data = trainer.sesstrain(blocking)"
   ]
  },
  {
   "cell_type": "code",
   "execution_count": null,
   "metadata": {},
   "outputs": [],
   "source": [
    "# data has: (num sessions, num blocks, num evals)"
   ]
  },
  {
   "cell_type": "code",
   "execution_count": 107,
   "metadata": {},
   "outputs": [
    {
     "data": {
      "text/plain": [
       "(2, 10)"
      ]
     },
     "execution_count": 107,
     "metadata": {},
     "output_type": "execute_result"
    }
   ],
   "source": [
    "eval_data[0]['loss'].shape"
   ]
  },
  {
   "cell_type": "code",
   "execution_count": null,
   "metadata": {},
   "outputs": [],
   "source": []
  },
  {
   "cell_type": "code",
   "execution_count": 15,
   "metadata": {},
   "outputs": [
    {
     "data": {
      "text/plain": [
       "((20,), dtype([('loss', '<f4'), ('acc', '<f4', (2,)), ('cond', '<U25')]))"
      ]
     },
     "execution_count": 15,
     "metadata": {},
     "output_type": "execute_result"
    }
   ],
   "source": [
    "pred_arr_L[0].shape,pred_arr_L[0].dtype"
   ]
  },
  {
   "cell_type": "code",
   "execution_count": 27,
   "metadata": {},
   "outputs": [
    {
     "data": {
      "text/plain": [
       "array([3.2358634 , 1.3414258 , 1.305071  , 1.2717901 , 1.2232074 ,\n",
       "       1.1979767 , 1.1907247 , 1.2220477 , 1.2320894 , 1.2246588 ,\n",
       "       1.0970117 , 1.228598  , 1.1590317 , 1.1482819 , 1.1082064 ,\n",
       "       1.1266599 , 1.0244309 , 0.9744117 , 0.9572101 , 1.1576566 ,\n",
       "       0.9461817 , 0.9309623 , 1.1381541 , 1.1647217 , 1.1140026 ,\n",
       "       1.0729734 , 0.880825  , 0.9721715 , 1.0242225 , 1.0197194 ,\n",
       "       3.9310162 , 1.2516822 , 1.1370596 , 1.1459615 , 1.1769618 ,\n",
       "       1.096819  , 1.0727191 , 0.9996252 , 0.9659586 , 0.86335486,\n",
       "       0.83780473, 0.78992826, 0.76253873, 1.0449356 , 0.8912707 ,\n",
       "       0.9020014 , 1.0249184 , 0.95279163, 0.8220792 , 0.97476333,\n",
       "       0.8848445 , 0.8205289 , 0.9246387 , 0.83274335, 0.74657196,\n",
       "       0.6776693 , 0.73429567, 0.67735285, 0.6472662 , 0.80419165,\n",
       "       3.395594  , 0.93178016, 0.753143  , 0.69345826, 0.7334761 ,\n",
       "       0.718039  , 0.6047781 , 0.7214592 , 0.59450686, 0.6370217 ,\n",
       "       0.65363127, 0.6792083 , 0.7235221 , 0.67136806, 0.73628324,\n",
       "       0.63362867, 0.7330881 , 0.5469582 , 0.52571577, 0.6567284 ,\n",
       "       0.5621862 , 0.6425234 , 0.5760266 , 0.58363265, 0.59552056,\n",
       "       0.46724126, 0.5394788 , 0.5581738 , 0.4724914 , 0.4048663 ],\n",
       "      dtype=float32)"
      ]
     },
     "execution_count": 27,
     "metadata": {},
     "output_type": "execute_result"
    }
   ],
   "source": [
    "np.array(pred_arr_L)[1]['loss']"
   ]
  },
  {
   "cell_type": "code",
   "execution_count": null,
   "metadata": {},
   "outputs": [],
   "source": [
    "net_size = 10\n",
    "saving_name=\"lstm%i+\"%net_size\n",
    "cell = CustomLSTM(net_size,net_size,net_size)\n",
    "rnn = RNN_fullstory(cell)\n",
    "\n",
    "trainer = Trainer(rnn)\n",
    "trainer.rnn.reinitialize()\n",
    "\n",
    "num_blocks = 1000\n",
    "num_epochs = 1 # per block\n",
    "eval_arr,pred_arr = trainer.blocktrain(num_blocks,num_epochs)"
   ]
  },
  {
   "cell_type": "markdown",
   "metadata": {},
   "source": [
    "## evaluation"
   ]
  },
  {
   "cell_type": "code",
   "execution_count": null,
   "metadata": {},
   "outputs": [],
   "source": [
    "total_num_evals = num_blocks*num_evals_per_block\n",
    "acc_plt = mov_avg(eval_arr['acc'],15)\n",
    "xplt = np.arange(0,total_num_evals,len(acc_plt))"
   ]
  },
  {
   "cell_type": "code",
   "execution_count": null,
   "metadata": {},
   "outputs": [],
   "source": [
    "plt_eval(eval_arr,num_blocks,num_epochs)"
   ]
  },
  {
   "cell_type": "markdown",
   "metadata": {
    "scrolled": true
   },
   "source": [
    "# exploring different training regimes"
   ]
  },
  {
   "cell_type": "markdown",
   "metadata": {},
   "source": [
    "- what happens if i first train intrlv/block on A and B, then train only on B.\n",
    "- does intrlv or block show different resistance to interference? "
   ]
  },
  {
   "cell_type": "code",
   "execution_count": 73,
   "metadata": {},
   "outputs": [
    {
     "data": {
      "text/plain": [
       "{'location.latent.false': 15, 'location.latent.true': 14}"
      ]
     },
     "execution_count": 73,
     "metadata": {},
     "output_type": "execute_result"
    }
   ],
   "source": [
    "csw.conditioned = True\n",
    "csw.cond_dict"
   ]
  },
  {
   "cell_type": "code",
   "execution_count": null,
   "metadata": {},
   "outputs": [],
   "source": []
  },
  {
   "cell_type": "code",
   "execution_count": 42,
   "metadata": {
    "scrolled": true
   },
   "outputs": [
    {
     "data": {
      "text/plain": [
       "15"
      ]
     },
     "execution_count": 42,
     "metadata": {},
     "output_type": "execute_result"
    }
   ],
   "source": [
    "# initialize network\n",
    "net_size = 10\n",
    "net_name=\"lstm%i\"%net_size\n",
    "\n",
    "cell = CustomLSTM(net_size,net_size,net_size)\n",
    "rnn = RNN_fullstory(cell)\n",
    "trainer = Trainer(rnn)\n",
    "# look at evaluations on the following filler\n",
    "eval_fillerid = trainer.csw.cond_dict['location.latent.false']"
   ]
  },
  {
   "cell_type": "markdown",
   "metadata": {},
   "source": [
    "## blocked"
   ]
  },
  {
   "cell_type": "code",
   "execution_count": null,
   "metadata": {},
   "outputs": [],
   "source": [
    "trainer.rnn.reinitialize()\n",
    "block_blocking = [(20,200)]\n",
    "# train\n",
    "block_arr_L = trainer.sesstrain(block_blocking)"
   ]
  },
  {
   "cell_type": "code",
   "execution_count": null,
   "metadata": {},
   "outputs": [],
   "source": [
    "# make array into dataframe\n",
    "block_df = get_pred_df(block_arr_L,block_blocking)\n",
    "# code network responses\n",
    "coded_block_df = code_responses(block_df,trainer,eval_fillerid)"
   ]
  },
  {
   "cell_type": "code",
   "execution_count": null,
   "metadata": {},
   "outputs": [],
   "source": [
    "plt_avg_predictions(coded_block_df,block_blocking)\n",
    "plt.savefig('figures/'+net_name+'-2sch-'+'-blocked')"
   ]
  },
  {
   "cell_type": "markdown",
   "metadata": {},
   "source": [
    "## interleave"
   ]
  },
  {
   "cell_type": "code",
   "execution_count": null,
   "metadata": {
    "scrolled": true
   },
   "outputs": [],
   "source": [
    "trainer.rnn.reinitialize()\n",
    "intrlv_blocking = [(10000,1),(1,5000)]\n",
    "# train\n",
    "intrlv_arr_L = trainer.sesstrain(intrlv_blocking)"
   ]
  },
  {
   "cell_type": "code",
   "execution_count": null,
   "metadata": {},
   "outputs": [],
   "source": [
    "# make array into dataframe\n",
    "intrlv_df = get_pred_df(intrlv_arr_L,intrlv_blocking)\n",
    "# code network responses\n",
    "coded_intrlv_df = code_responses(intrlv_df,trainer,eval_fillerid)"
   ]
  },
  {
   "cell_type": "code",
   "execution_count": null,
   "metadata": {},
   "outputs": [],
   "source": [
    "plt_avg_predictions(coded_intrlv_df,intrlv_blocking)\n",
    "plt.savefig('figures/'+net_name+'-2sch-'+'-intrlv')"
   ]
  }
 ],
 "metadata": {
  "kernelspec": {
   "display_name": "Python 3",
   "language": "python",
   "name": "python3"
  },
  "language_info": {
   "codemirror_mode": {
    "name": "ipython",
    "version": 3
   },
   "file_extension": ".py",
   "mimetype": "text/x-python",
   "name": "python",
   "nbconvert_exporter": "python",
   "pygments_lexer": "ipython3",
   "version": "3.6.5"
  }
 },
 "nbformat": 4,
 "nbformat_minor": 2
}
