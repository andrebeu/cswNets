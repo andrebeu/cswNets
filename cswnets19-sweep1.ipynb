{
 "cells": [
  {
   "cell_type": "code",
   "execution_count": 1,
   "metadata": {},
   "outputs": [],
   "source": [
    "import torch as tr\n",
    "import numpy as np\n",
    "import itertools\n",
    "from CSW import *\n",
    "\n",
    "from matplotlib import pyplot as plt\n",
    "%matplotlib inline\n",
    "\n",
    "%load_ext autoreload\n",
    "%reload_ext autoreload\n",
    "%autoreload 2"
   ]
  },
  {
   "cell_type": "code",
   "execution_count": 2,
   "metadata": {},
   "outputs": [],
   "source": [
    "rootdir = 'matchSEM/sweep1/'"
   ]
  },
  {
   "cell_type": "markdown",
   "metadata": {},
   "source": [
    "# Analysis: CI in layer 2 vs 3"
   ]
  },
  {
   "cell_type": "code",
   "execution_count": null,
   "metadata": {},
   "outputs": [],
   "source": [
    "# eval params\n",
    "depthL = [2,3]\n",
    "tonodesL = [(3,4),(5,6)]\n",
    "eval_pathL = [\n",
    "  [0,10,1,4,5],       \n",
    "  [0,11,1,3,5],\n",
    "  [0,11,2,4,6],\n",
    "    ]"
   ]
  },
  {
   "cell_type": "code",
   "execution_count": null,
   "metadata": {},
   "outputs": [],
   "source": [
    "# sweep params\n",
    "stsizeL=[20,25,30,35,40]\n",
    "lrL=[0.005,0.01,0.05,0.1,0.5]\n",
    "bpmodeL=['story']"
   ]
  },
  {
   "cell_type": "markdown",
   "metadata": {},
   "source": [
    "### load and plt ysm"
   ]
  },
  {
   "cell_type": "code",
   "execution_count": 3,
   "metadata": {},
   "outputs": [],
   "source": [
    "def load_ysm(blocklen,bpmode,stsize,lr):\n",
    "  fpath = rootdir + \"model_data/ysm-blocklen%i-bpmode_%s-stsize%i-lr%.3f.npy\"%(blocklen,bpmode,stsize,lr)\n",
    "  return np.load(fpath)"
   ]
  },
  {
   "cell_type": "code",
   "execution_count": 9,
   "metadata": {},
   "outputs": [],
   "source": [
    "def plt_ysm(ysm_i,ysm_b,pathidx=0):\n",
    "  fig,axarr = plt.subplots(2,2,figsize=(14,6),sharey=True,sharex=True)\n",
    "  for ib_idx,ysm_plt in enumerate([ysm_i,ysm_b]):\n",
    "    for depthidx in [0,1]:\n",
    "      ax = axarr[ib_idx,depthidx]\n",
    "      depth = depthL[depthidx]\n",
    "      tonodes = tonodesL[depthidx]\n",
    "      ax.plot(ysm_plt[:,pathidx,:,depth,tonodes].mean(1).T)\n",
    "      path = eval_pathL[pathidx]\n",
    "      fromnode = path[depth]\n",
    "      sch = path[1]\n",
    "      ax.set_title('schema%i_from-%i_to-%ior%i-%s'%(sch,fromnode,*tonodes,['interleaved','blocked'][ib_idx]))\n",
    "  return None\n"
   ]
  },
  {
   "cell_type": "code",
   "execution_count": 15,
   "metadata": {
    "scrolled": true
   },
   "outputs": [
    {
     "name": "stdout",
     "output_type": "stream",
     "text": [
      "story 20 0.005\n",
      "story 20 0.01\n",
      "story 20 0.05\n",
      "story 20 0.1\n",
      "story 20 0.5\n",
      "story 25 0.005\n",
      "story 25 0.01\n",
      "story 25 0.05\n",
      "story 25 0.1\n",
      "story 25 0.5\n",
      "story 30 0.005\n",
      "story 30 0.01\n",
      "story 30 0.05\n",
      "story 30 0.1\n",
      "story 30 0.5\n",
      "story 35 0.005\n",
      "story 35 0.01\n",
      "story 35 0.05\n",
      "story 35 0.1\n",
      "story 35 0.5\n",
      "story 40 0.005\n",
      "story 40 0.01\n",
      "story 40 0.05\n",
      "story 40 0.1\n",
      "story 40 0.5\n"
     ]
    }
   ],
   "source": [
    "for bpmode,stsize,lr in itertools.product(bpmodeL,stsizeL,lrL):\n",
    "  print(bpmode,stsize,lr)\n",
    "  ysm_i = load_ysm(1,bpmode,stsize,lr)\n",
    "  ysm_b = load_ysm(40,bpmode,stsize,lr)\n",
    "  plt_ysm(ysm_i,ysm_b)\n",
    "  fpath = \"ysm-bpmode_%s-stsize%i-lr%.3f.png\"%(bpmode,stsize,lr)\n",
    "  plt.suptitle(fpath)\n",
    "  plt.savefig(rootdir+'figures/'+fpath)\n",
    "  plt.close('all')\n",
    "\n"
   ]
  },
  {
   "cell_type": "markdown",
   "metadata": {},
   "source": [
    "### load and plt accuracy"
   ]
  },
  {
   "cell_type": "code",
   "execution_count": 38,
   "metadata": {},
   "outputs": [],
   "source": [
    "def load_acc(blocklen,bpmode,stsize,lr):\n",
    "  fpath = rootdir + \"model_data/acc-blocklen%i-bpmode_%s-stsize%i-lr%.3f.npy\"%(blocklen,bpmode,stsize,lr)\n",
    "  return np.load(fpath)\n",
    "\n",
    "def plt_acc(acc_i,acc_b,pathidx=0):\n",
    "  plt.plot(acc_i)\n",
    "  plt.plot(acc_b)\n",
    "  plt.ylim(0,1.05)\n",
    "  plt.axhline(0.5,c='k',ls='--')\n",
    "  return None"
   ]
  },
  {
   "cell_type": "code",
   "execution_count": 41,
   "metadata": {
    "scrolled": true
   },
   "outputs": [
    {
     "name": "stdout",
     "output_type": "stream",
     "text": [
      "story 20 0.005\n",
      "story 20 0.01\n",
      "story 20 0.05\n",
      "story 20 0.1\n",
      "story 20 0.5\n",
      "story 25 0.005\n",
      "story 25 0.01\n",
      "story 25 0.05\n",
      "story 25 0.1\n",
      "story 25 0.5\n",
      "story 30 0.005\n",
      "story 30 0.01\n",
      "story 30 0.05\n",
      "story 30 0.1\n",
      "story 30 0.5\n",
      "story 35 0.005\n",
      "story 35 0.01\n",
      "story 35 0.05\n",
      "story 35 0.1\n",
      "story 35 0.5\n",
      "story 40 0.005\n",
      "story 40 0.01\n",
      "story 40 0.05\n",
      "story 40 0.1\n",
      "story 40 0.5\n"
     ]
    }
   ],
   "source": [
    "for bpmode,stsize,lr in itertools.product(bpmodeL,stsizeL,lrL):\n",
    "  print(bpmode,stsize,lr)\n",
    "  plt.figure(figsize=(10,6))\n",
    "\n",
    "  acc_i = load_acc(1,bpmode,stsize,lr).mean(0)\n",
    "  acc_b = load_acc(40,bpmode,stsize,lr).mean(0)\n",
    "  plt_acc(acc_i,acc_b,pathidx=0)\n",
    "  fpath = \"acc-bpmode_%s-stsize%i-lr%.3f.png\"%(bpmode,stsize,lr)\n",
    "  plt.suptitle(fpath)\n",
    "  plt.savefig(rootdir+'figures/'+fpath)\n",
    "  plt.close('all')\n",
    "\n"
   ]
  },
  {
   "cell_type": "code",
   "execution_count": null,
   "metadata": {},
   "outputs": [],
   "source": [
    "\n",
    "  fpath = \"acc-bpmode_%s-stsize%i-lr%.3f.png\"%(bpmode,stsize,lr)\n",
    "  plt.suptitle(fpath)\n",
    "  plt.savefig(rootdir+'figures/'+fpath)\n",
    "  plt.close('all')\n",
    "\n"
   ]
  },
  {
   "cell_type": "markdown",
   "metadata": {},
   "source": [
    "# sweep code"
   ]
  },
  {
   "cell_type": "code",
   "execution_count": 14,
   "metadata": {},
   "outputs": [],
   "source": [
    "import sys\n",
    "import torch as tr\n",
    "import numpy as np\n",
    "from CSW import *\n",
    "\n",
    "rootdir = 'matchSEM/sweep1/'\n",
    "\n",
    "## sweep vars\n",
    "block_len0 = int(sys.argv[1])\n",
    "stsize = int(sys.argv[2])\n",
    "learn_rate = float(sys.argv[3])\n",
    "bpmode = sys.argv[4]\n",
    "\n",
    "print(block_len0,stsize,learn_rate,bpmode) \n",
    "\n",
    "# fix vars\n",
    "nnets = 20\n",
    "neps = 200\n",
    "\n",
    "## task init\n",
    "taskL = [CSWTask(1.0),CSWTask(0.0)]\n",
    "\n",
    "# eval paths\n",
    "eval_pathL = [\n",
    "  [0,10,1,4,5],       \n",
    "  [0,11,1,3,5],\n",
    "  [0,11,2,4,6],\n",
    "  ]\n",
    "\n",
    "# format for nn input\n",
    "xeval = taskL[0].format_Xeval(eval_pathL)\n",
    "xeval = tr.tensor(xeval)\n",
    "\n",
    "# eval array\n",
    "tdim,sm_dim=5,12\n",
    "ysm = -np.ones([nnets,3,neps,tdim,sm_dim])\n",
    "acc = -np.ones([nnets,neps])\n",
    "\n",
    "## train setup\n",
    "softmax = lambda ulog: tr.softmax(ulog,-1)\n",
    "lossop = tr.nn.CrossEntropyLoss()\n",
    "\n",
    "# loop over seeds\n",
    "for seed in range(nnets):\n",
    "  # init net\n",
    "  net = CSWNet(stsize,seed)\n",
    "  optiop = tr.optim.Adam(net.parameters(), lr=learn_rate)\n",
    "  # init loop vars\n",
    "  task_int = 0\n",
    "  block_len = block_len0 \n",
    "  # train loop\n",
    "  for ep in range(neps):\n",
    "    # curriculum select graph\n",
    "    if ep == 160:\n",
    "      block_len = 1\n",
    "    if ep%block_len==0:\n",
    "      task_int = (task_int+1)%2\n",
    "      task = taskL[task_int]\n",
    "      filler_id = 10+task_int \n",
    "    # forward prop  \n",
    "    path = task.sample_path()\n",
    "    xtrain,ytrain = task.dataset_onestory_with_marker(path=path,filler_id=filler_id,depth=1)\n",
    "    yh = net(xtrain) # (time,smunits)\n",
    "    # accuracy on train data\n",
    "    yh_sm = softmax(yh).detach().numpy()\n",
    "    yt = ytrain.detach().numpy().squeeze()\n",
    "    acc[seed,ep] = np.mean(np.equal(np.argmax(yh_sm[2:4],1),yt[2:4]))\n",
    "    ## eval dataset\n",
    "    for idx,xev in enumerate(xeval):\n",
    "      ysm_t = softmax(net(xev)).detach().numpy()\n",
    "      ysm[seed,idx,ep] = ysm_t\n",
    "    if bpmode=='scene':\n",
    "      loss = 0\n",
    "      for tstep in range(len(xtrain)):\n",
    "        loss = lossop(yh[tstep].unsqueeze(0),ytrain[tstep])\n",
    "        optiop.zero_grad()\n",
    "        loss.backward(retain_graph=True)\n",
    "        optiop.step()\n",
    "    elif bpmode=='story':\n",
    "      loss = 0\n",
    "      for tstep in range(len(xtrain)):\n",
    "        loss += lossop(yh[tstep].unsqueeze(0),ytrain[tstep])\n",
    "      optiop.zero_grad()\n",
    "      loss.backward(retain_graph=True)\n",
    "      optiop.step()\n",
    "    else: \n",
    "      assert False\n",
    "\n",
    "\n",
    "np.save(rootdir+'model_data/ysm-blocklen%i-bpmode_%s-stsize%i-lr%.3f.npy'%(block_len0,bpmode,stsize,learn_rate),ysm)\n",
    "np.save(rootdir+'model_data/acc-blocklen%i-bpmode_%s-stsize%i-lr%.3f.npy'%(block_len0,bpmode,stsize,learn_rate),acc)\n",
    "\n"
   ]
  }
 ],
 "metadata": {
  "kernelspec": {
   "display_name": "Python 3",
   "language": "python",
   "name": "python3"
  },
  "language_info": {
   "codemirror_mode": {
    "name": "ipython",
    "version": 3
   },
   "file_extension": ".py",
   "mimetype": "text/x-python",
   "name": "python",
   "nbconvert_exporter": "python",
   "pygments_lexer": "ipython3",
   "version": "3.7.3"
  }
 },
 "nbformat": 4,
 "nbformat_minor": 2
}
