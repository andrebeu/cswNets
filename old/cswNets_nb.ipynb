{
 "cells": [
  {
   "cell_type": "code",
   "execution_count": 6,
   "metadata": {},
   "outputs": [
    {
     "name": "stdout",
     "output_type": "stream",
     "text": [
      "The autoreload extension is already loaded. To reload it, use:\n",
      "  %reload_ext autoreload\n"
     ]
    }
   ],
   "source": [
    "import numpy as np\n",
    "import tensorflow as tf\n",
    "import matplotlib.pyplot as plt\n",
    "from cswNets3 import *\n",
    "from protoCSW import *\n",
    "\n",
    "%matplotlib inline\n",
    "%load_ext autoreload\n",
    "%reload_ext autoreload\n",
    "%autoreload 2"
   ]
  },
  {
   "cell_type": "code",
   "execution_count": 2,
   "metadata": {
    "collapsed": true
   },
   "outputs": [],
   "source": [
    "def mov_avrg(arr,smooth=30):\n",
    "  \"\"\" calculates with sliding window average on array\n",
    "  \"\"\"\n",
    "  L = []\n",
    "  for idx in range(len(arr)-smooth):\n",
    "    score = sum(arr[idx:idx+smooth])/smooth\n",
    "    L.append(score)\n",
    "  return np.array(L)"
   ]
  },
  {
   "cell_type": "code",
   "execution_count": 3,
   "metadata": {
    "collapsed": true
   },
   "outputs": [],
   "source": [
    "# setup\n",
    "fix_vocab = 10\n",
    "rand_vocab = 0\n",
    "vocab_size = fix_vocab+rand_vocab\n",
    "\n",
    "arch = {'input_seq_len':2,\n",
    "       'output_seq_len':2,\n",
    "        # must be multiple of 3\n",
    "       'num_sequences': 3,\n",
    "       'fix_vocab_size': fix_vocab,\n",
    "       'rand_vocab_size': rand_vocab,\n",
    "       'netdim': vocab_size/2}\n"
   ]
  },
  {
   "cell_type": "code",
   "execution_count": 4,
   "metadata": {
    "collapsed": true,
    "scrolled": true
   },
   "outputs": [],
   "source": [
    "# train\n",
    "train_info = {'batch_size': 20,\n",
    "              'num_epochs': 2000,\n",
    "              'loss_op': tf.losses.mean_squared_error}"
   ]
  },
  {
   "cell_type": "code",
   "execution_count": 5,
   "metadata": {
    "scrolled": true
   },
   "outputs": [
    {
     "name": "stdout",
     "output_type": "stream",
     "text": [
      "WARNING:tensorflow:From /Users/abeukers/anaconda/lib/python3.6/site-packages/tensorflow/contrib/learn/python/learn/datasets/base.py:198: retry (from tensorflow.contrib.learn.python.learn.datasets.base) is deprecated and will be removed in a future version.\n",
      "Instructions for updating:\n",
      "Use the retry module or similar alternatives.\n",
      "saving to savedmodels/LSTMseq2_05-09-08.37.16.866804/model-initial-05-09-08.37.16.866846\n",
      "epoch 0.0 elapsed time 0:00:05.331545\n",
      "epoch 0.01 elapsed time 0:00:00.219667\n",
      "epoch 0.02 elapsed time 0:00:00.207289\n",
      "epoch 0.03 elapsed time 0:00:00.217471\n",
      "epoch 0.04 elapsed time 0:00:00.254671\n",
      "epoch 0.05 elapsed time 0:00:00.246317\n",
      "epoch 0.06 elapsed time 0:00:00.223119\n",
      "epoch 0.07 elapsed time 0:00:00.217865\n",
      "epoch 0.08 elapsed time 0:00:00.235871\n",
      "epoch 0.09 elapsed time 0:00:00.218762\n",
      "epoch 0.1 elapsed time 0:00:00.235797\n",
      "epoch 0.11 elapsed time 0:00:00.228138\n",
      "epoch 0.12 elapsed time 0:00:00.197771\n",
      "epoch 0.13 elapsed time 0:00:00.241040\n",
      "epoch 0.14 elapsed time 0:00:00.273732\n",
      "epoch 0.15 elapsed time 0:00:00.251770\n",
      "epoch 0.16 elapsed time 0:00:00.213825\n",
      "epoch 0.17 elapsed time 0:00:00.211985\n",
      "epoch 0.18 elapsed time 0:00:00.223491\n",
      "epoch 0.19 elapsed time 0:00:00.228634\n",
      "epoch 0.2 elapsed time 0:00:00.225522\n",
      "epoch 0.21 elapsed time 0:00:00.203098\n",
      "epoch 0.22 elapsed time 0:00:00.202796\n",
      "epoch 0.23 elapsed time 0:00:00.235595\n",
      "epoch 0.24 elapsed time 0:00:00.216592\n",
      "epoch 0.25 elapsed time 0:00:00.196686\n",
      "epoch 0.26 elapsed time 0:00:00.213511\n",
      "epoch 0.27 elapsed time 0:00:00.203775\n",
      "epoch 0.28 elapsed time 0:00:00.246781\n",
      "epoch 0.29 elapsed time 0:00:00.249478\n",
      "epoch 0.3 elapsed time 0:00:00.227459\n",
      "epoch 0.31 elapsed time 0:00:00.207872\n",
      "epoch 0.32 elapsed time 0:00:00.228466\n",
      "epoch 0.33 elapsed time 0:00:00.231167\n",
      "epoch 0.34 elapsed time 0:00:00.208074\n",
      "epoch 0.35 elapsed time 0:00:00.195712\n",
      "epoch 0.36 elapsed time 0:00:00.191651\n",
      "epoch 0.37 elapsed time 0:00:00.201003\n",
      "epoch 0.38 elapsed time 0:00:00.190628\n",
      "epoch 0.39 elapsed time 0:00:00.194270\n",
      "epoch 0.4 elapsed time 0:00:00.196236\n",
      "epoch 0.41 elapsed time 0:00:00.211194\n",
      "epoch 0.42 elapsed time 0:00:00.212825\n",
      "epoch 0.43 elapsed time 0:00:00.192611\n",
      "epoch 0.44 elapsed time 0:00:00.190658\n",
      "epoch 0.45 elapsed time 0:00:00.190215\n",
      "epoch 0.46 elapsed time 0:00:00.189748\n",
      "epoch 0.47 elapsed time 0:00:00.190715\n",
      "epoch 0.48 elapsed time 0:00:00.223006\n",
      "epoch 0.49 elapsed time 0:00:00.203110\n",
      "epoch 0.5 elapsed time 0:00:00.193529\n",
      "epoch 0.51 elapsed time 0:00:00.204534\n",
      "epoch 0.52 elapsed time 0:00:00.270005\n",
      "epoch 0.53 elapsed time 0:00:00.259872\n",
      "epoch 0.54 elapsed time 0:00:00.212799\n",
      "epoch 0.55 elapsed time 0:00:00.260477\n",
      "epoch 0.56 elapsed time 0:00:00.194122\n",
      "epoch 0.57 elapsed time 0:00:00.188039\n",
      "epoch 0.58 elapsed time 0:00:00.195530\n",
      "epoch 0.59 elapsed time 0:00:00.204206\n",
      "epoch 0.6 elapsed time 0:00:00.197218\n",
      "epoch 0.61 elapsed time 0:00:00.211777\n",
      "epoch 0.62 elapsed time 0:00:00.206598\n",
      "epoch 0.63 elapsed time 0:00:00.185387\n",
      "epoch 0.64 elapsed time 0:00:00.191499\n",
      "epoch 0.65 elapsed time 0:00:00.194542\n",
      "epoch 0.66 elapsed time 0:00:00.259759\n",
      "epoch 0.67 elapsed time 0:00:00.228173\n",
      "epoch 0.68 elapsed time 0:00:00.239935\n",
      "epoch 0.69 elapsed time 0:00:00.203299\n",
      "epoch 0.7 elapsed time 0:00:00.203555\n",
      "epoch 0.71 elapsed time 0:00:00.230694\n",
      "epoch 0.72 elapsed time 0:00:00.305858\n",
      "epoch 0.73 elapsed time 0:00:00.220888\n",
      "epoch 0.74 elapsed time 0:00:00.205660\n",
      "epoch 0.75 elapsed time 0:00:00.222812\n",
      "epoch 0.76 elapsed time 0:00:00.236643\n",
      "epoch 0.77 elapsed time 0:00:00.227986\n",
      "epoch 0.78 elapsed time 0:00:00.206303\n",
      "epoch 0.79 elapsed time 0:00:00.205441\n",
      "epoch 0.8 elapsed time 0:00:00.211991\n",
      "epoch 0.81 elapsed time 0:00:00.209416\n",
      "epoch 0.82 elapsed time 0:00:00.237010\n",
      "epoch 0.83 elapsed time 0:00:00.224784\n",
      "epoch 0.84 elapsed time 0:00:00.243200\n",
      "epoch 0.85 elapsed time 0:00:00.268912\n",
      "epoch 0.86 elapsed time 0:00:00.217807\n",
      "epoch 0.87 elapsed time 0:00:00.296414\n",
      "epoch 0.88 elapsed time 0:00:00.231277\n",
      "epoch 0.89 elapsed time 0:00:00.228363\n",
      "epoch 0.9 elapsed time 0:00:00.272550\n",
      "epoch 0.91 elapsed time 0:00:00.221405\n",
      "epoch 0.92 elapsed time 0:00:00.266414\n",
      "epoch 0.93 elapsed time 0:00:00.282231\n",
      "epoch 0.94 elapsed time 0:00:00.210973\n",
      "epoch 0.95 elapsed time 0:00:00.291883\n",
      "epoch 0.96 elapsed time 0:00:00.292021\n",
      "epoch 0.97 elapsed time 0:00:00.261054\n",
      "epoch 0.98 elapsed time 0:00:00.205941\n",
      "epoch 0.99 elapsed time 0:00:00.212069\n",
      "saving to savedmodels/LSTMseq2_05-09-08.37.16.866804/model-trained-05-09-08.37.23.200142\n",
      "1 0:02:28.664177\n"
     ]
    }
   ],
   "source": [
    "rnn = LSTMseq2(arch,saving=True)\n",
    "rnn_exp_data = run_k_experiments(rnn,train_info,RAND=False,COND=False)"
   ]
  },
  {
   "cell_type": "code",
   "execution_count": 12,
   "metadata": {},
   "outputs": [
    {
     "data": {
      "image/png": "[encoded data removed]",
      "text/plain": [
       "<matplotlib.figure.Figure at 0x12db05668>"
      ]
     },
     "metadata": {},
     "output_type": "display_data"
    }
   ],
   "source": [
    "plt.plot(mov_avrg(rnn_exp_data[0,:,0]))\n",
    "plt.plot(mov_avrg(rnn_exp_data[0,:,1]))\n",
    "plt.axhline(.8,c='r',ls='--')\n",
    "plt.axhline(.5,c='r',ls='--')\n",
    "plt.grid(True)\n",
    "# plt.ylim(.4,.65)"
   ]
  },
  {
   "cell_type": "code",
   "execution_count": 9,
   "metadata": {},
   "outputs": [
    {
     "data": {
      "text/plain": [
       "<matplotlib.image.AxesImage at 0x12daf9e48>"
      ]
     },
     "execution_count": 9,
     "metadata": {},
     "output_type": "execute_result"
    },
    {
     "data": {
      "image/png": "[encoded data removed]",
      "text/plain": [
       "<matplotlib.figure.Figure at 0x12ebc16a0>"
      ]
     },
     "metadata": {},
     "output_type": "display_data"
    }
   ],
   "source": [
    "r_mat = np.corrcoef(rnn.sess.run(rnn.embed_mat))[:7,:7]\n",
    "plt.imshow(r_mat,vmin=-.5,vmax=.5)\n",
    "# plt.grid(True)"
   ]
  },
  {
   "cell_type": "code",
   "execution_count": 10,
   "metadata": {},
   "outputs": [],
   "source": [
    "def eval2(net,X_data,Y_data,sess=None):\n",
    "    \"\"\" makes predictions and computes loss \"\"\"\n",
    "    sess = net.sess\n",
    "    # feed dictionary\n",
    "#     eval_data_dict = gen_data_dict(100,RAND,COND)\n",
    "    eval_feed_dict = {net.xph:X_data, \n",
    "                      net.yph:Y_data, \n",
    "                      net.batch_size_ph:1}\n",
    "    # initialize iterator with eval data\n",
    "    sess.run(net.itr_initop,eval_feed_dict)\n",
    "    # compute loss and predictions\n",
    "    filler_acc_L = []\n",
    "    state_acc_L = []\n",
    "    while True:\n",
    "      try:\n",
    "        (state_acc,filler_acc),yhat = sess.run([net.acc_op,net.y_hat_ids],eval_feed_dict)\n",
    "#         return yhat\n",
    "        print(state_acc,filler_acc,yhat)\n",
    "        # print(state_acc,filler_acc)\n",
    "        state_acc_L.append(state_acc)\n",
    "        filler_acc_L.append(filler_acc)\n",
    "      except tf.errors.OutOfRangeError:\n",
    "        break\n",
    "    acc_arr = np.vstack([state_acc_L,filler_acc_L]).transpose()\n",
    "    mean_acc = np.mean(acc_arr,0)\n",
    "    return mean_acc"
   ]
  },
  {
   "cell_type": "code",
   "execution_count": 11,
   "metadata": {},
   "outputs": [
    {
     "name": "stdout",
     "output_type": "stream",
     "text": [
      "0.0 0.6666667 [9 9 9 0 9 9]\n"
     ]
    }
   ],
   "source": [
    "# 1 3 5\n",
    "X_data = [[1,9,3,9,5,9]]\n",
    "Y_data = [[3,9,5,9,7,9]]\n",
    "yhat = eval2(rnn,X_data,Y_data)"
   ]
  },
  {
   "cell_type": "code",
   "execution_count": null,
   "metadata": {},
   "outputs": [],
   "source": [
    "yhat"
   ]
  },
  {
   "cell_type": "code",
   "execution_count": null,
   "metadata": {
    "collapsed": true
   },
   "outputs": [],
   "source": []
  }
 ],
 "metadata": {
  "kernelspec": {
   "display_name": "Python 3",
   "language": "python",
   "name": "python3"
  },
  "language_info": {
   "codemirror_mode": {
    "name": "ipython",
    "version": 3
   },
   "file_extension": ".py",
   "mimetype": "text/x-python",
   "name": "python",
   "nbconvert_exporter": "python",
   "pygments_lexer": "ipython3",
   "version": "3.6.5"
  }
 },
 "nbformat": 4,
 "nbformat_minor": 2
}
