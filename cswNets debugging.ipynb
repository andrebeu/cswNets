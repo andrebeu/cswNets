{
 "cells": [
  {
   "cell_type": "code",
   "execution_count": 57,
   "metadata": {},
   "outputs": [
    {
     "name": "stdout",
     "output_type": "stream",
     "text": [
      "The autoreload extension is already loaded. To reload it, use:\n",
      "  %reload_ext autoreload\n"
     ]
    }
   ],
   "source": [
    "import numpy as np\n",
    "from glob import glob as glob\n",
    "\n",
    "from cswsims import *\n",
    "import tensorflow as tf\n",
    "\n",
    "from matplotlib import pyplot as plt\n",
    "%matplotlib inline\n",
    "\n",
    "%load_ext autoreload\n",
    "%reload_ext autoreload\n",
    "%autoreload 2"
   ]
  },
  {
   "cell_type": "markdown",
   "metadata": {},
   "source": [
    "### basic csw generate path"
   ]
  },
  {
   "cell_type": "code",
   "execution_count": 59,
   "metadata": {},
   "outputs": [],
   "source": [
    "task = CSWMLTask(1)\n",
    "path = task.gen_single_path(task.graphA)\n"
   ]
  },
  {
   "cell_type": "markdown",
   "metadata": {},
   "source": [
    "### generating many paths\n",
    "- probability of same graph controled by pr_shift"
   ]
  },
  {
   "cell_type": "code",
   "execution_count": 64,
   "metadata": {},
   "outputs": [
    {
     "name": "stdout",
     "output_type": "stream",
     "text": [
      "SHIFTING\n",
      "SHIFTING\n"
     ]
    },
    {
     "data": {
      "text/plain": [
       "([array([0, 2, 3, 6, 7, 9]),\n",
       "  array([0, 1, 3, 5, 7, 9]),\n",
       "  array([0, 2, 3, 6, 7, 9]),\n",
       "  array([0, 2, 3, 6, 7, 9]),\n",
       "  array([0, 2, 3, 6, 7, 9])],\n",
       " [11, 10, 11, 11, 11])"
      ]
     },
     "execution_count": 64,
     "metadata": {},
     "output_type": "execute_result"
    }
   ],
   "source": [
    "task = CSWMLTask(1)\n",
    "num_stories = 5\n",
    "pr_shift=.5\n",
    "pathL,graphidL = task.gen_pathL(num_stories,pr_shift)\n",
    "pathL,graphidL"
   ]
  },
  {
   "cell_type": "markdown",
   "metadata": {},
   "source": [
    "### formating many paths into single unroll"
   ]
  },
  {
   "cell_type": "code",
   "execution_count": 49,
   "metadata": {
    "scrolled": true
   },
   "outputs": [
    {
     "name": "stdout",
     "output_type": "stream",
     "text": [
      "10 0\n",
      "0 2\n",
      "2 4\n",
      "4 6\n",
      "6 8\n",
      "8 9\n",
      "9 10\n",
      "10 0\n",
      "0 2\n",
      "2 4\n",
      "4 6\n",
      "6 8\n",
      "8 9\n",
      "9 10\n",
      "10 0\n",
      "0 1\n",
      "1 3\n",
      "3 5\n",
      "5 7\n",
      "7 9\n",
      "9 10\n",
      "10 0\n",
      "0 1\n",
      "1 3\n",
      "3 5\n",
      "5 7\n",
      "7 9\n",
      "9 10\n",
      "10 0\n",
      "0 1\n",
      "1 3\n",
      "3 5\n",
      "5 7\n",
      "7 9\n",
      "9 10\n"
     ]
    },
    {
     "data": {
      "text/plain": [
       "((1, 35), (1, 35))"
      ]
     },
     "execution_count": 49,
     "metadata": {},
     "output_type": "execute_result"
    }
   ],
   "source": [
    "X,Y = task.dataset_kstories(pathL,graphidL)\n",
    "for x,y in zip(X.squeeze(),Y.squeeze()):\n",
    "  print(x,y)\n",
    "X.shape,Y.shape"
   ]
  },
  {
   "cell_type": "markdown",
   "metadata": {},
   "source": [
    "### graph building"
   ]
  },
  {
   "cell_type": "code",
   "execution_count": 56,
   "metadata": {},
   "outputs": [
    {
     "name": "stdout",
     "output_type": "stream",
     "text": [
      "initializing sub01\n",
      "SGD01\n"
     ]
    }
   ],
   "source": [
    "nstories = 3\n",
    "depth = 7*nstories\n",
    "stsize=20\n",
    "ML = MetaLearner(stsize,depth)\n"
   ]
  },
  {
   "cell_type": "code",
   "execution_count": null,
   "metadata": {},
   "outputs": [],
   "source": []
  }
 ],
 "metadata": {
  "kernelspec": {
   "display_name": "Python 3",
   "language": "python",
   "name": "python3"
  },
  "language_info": {
   "codemirror_mode": {
    "name": "ipython",
    "version": 3
   },
   "file_extension": ".py",
   "mimetype": "text/x-python",
   "name": "python",
   "nbconvert_exporter": "python",
   "pygments_lexer": "ipython3",
   "version": "3.6.5"
  }
 },
 "nbformat": 4,
 "nbformat_minor": 2
}
